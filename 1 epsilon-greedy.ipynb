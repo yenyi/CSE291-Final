{
 "cells": [
  {
   "cell_type": "markdown",
   "metadata": {},
   "source": [
    "## 1 Epsilon-Greedy\n",
    "#### Question 2 (4 Points). Implement an experiment that compares the ε-greedy policy and the UCB policy on the two- coin betting game. Run a few scenarios (design your own): small vs. large gap, several choices of ε. Plot the different accumulative reward curves over time.\n"
   ]
  },
  {
   "cell_type": "code",
   "execution_count": 1,
   "metadata": {},
   "outputs": [],
   "source": [
    "import numpy as np \n",
    "import matplotlib.pyplot as plt \n",
    "import pandas as pd "
   ]
  },
  {
   "cell_type": "code",
   "execution_count": 2,
   "metadata": {},
   "outputs": [
    {
     "data": {
      "text/plain": [
       "array([-0.18122215,  0.05380215])"
      ]
     },
     "execution_count": 2,
     "metadata": {},
     "output_type": "execute_result"
    }
   ],
   "source": [
    "np.random.normal(0, 1, 2)"
   ]
  },
  {
   "cell_type": "code",
   "execution_count": 3,
   "metadata": {},
   "outputs": [
    {
     "data": {
      "text/plain": [
       "array([0.2       , 0.25555556, 0.31111111, 0.36666667, 0.42222222,\n",
       "       0.47777778, 0.53333333, 0.58888889, 0.64444444, 0.7       ])"
      ]
     },
     "execution_count": 3,
     "metadata": {},
     "output_type": "execute_result"
    }
   ],
   "source": [
    " np.linspace(0.2, 0.7, 10)"
   ]
  },
  {
   "cell_type": "code",
   "execution_count": 4,
   "metadata": {},
   "outputs": [
    {
     "data": {
      "text/plain": [
       "0"
      ]
     },
     "execution_count": 4,
     "metadata": {},
     "output_type": "execute_result"
    }
   ],
   "source": [
    " np.random.choice(2)"
   ]
  },
  {
   "cell_type": "code",
   "execution_count": 5,
   "metadata": {},
   "outputs": [
    {
     "data": {
      "text/plain": [
       "array([0, 1])"
      ]
     },
     "execution_count": 5,
     "metadata": {},
     "output_type": "execute_result"
    }
   ],
   "source": [
    "np.array([0,1])"
   ]
  },
  {
   "cell_type": "code",
   "execution_count": 6,
   "metadata": {},
   "outputs": [],
   "source": [
    "class Eps_Greedy:    \n",
    "    def __init__(self, k, eps, iters, mu):\n",
    "        # Number of arms\n",
    "        self.k = k\n",
    "        # Search probability\n",
    "        self.eps = eps\n",
    "        # Number of iterations\n",
    "        self.iters = iters\n",
    "        # Step count\n",
    "        self.n = 0\n",
    "        # Step count for each arm\n",
    "        self.k_n = np.zeros(k)\n",
    "        # Total mean reward\n",
    "        self.mean_reward = 0\n",
    "        self.reward = np.zeros(iters)\n",
    "        # Mean reward for each arm\n",
    "        self.k_reward = np.zeros(k)\n",
    "        \n",
    "        self.mu = mu\n",
    "        \n",
    "    def pull(self):\n",
    "        p = np.random.rand()\n",
    "        if self.eps == 0 and self.n == 0:\n",
    "            a = np.random.choice(self.k)\n",
    "        elif p < self.eps:\n",
    "            a = np.random.choice(self.k)\n",
    "        else:\n",
    "            a = np.argmax(self.k_reward)\n",
    "            \n",
    "        reward = np.random.normal(self.mu[a], 1)\n",
    "        \n",
    "        # Update counts\n",
    "        self.n += 1\n",
    "        self.k_n[a] += 1\n",
    "        \n",
    "        # Update total\n",
    "        self.mean_reward = self.mean_reward + (\n",
    "            reward - self.mean_reward) / self.n\n",
    "        \n",
    "        # Update results for a_k\n",
    "        self.k_reward[a] = self.k_reward[a] + (\n",
    "            reward - self.k_reward[a]) / self.k_n[a]\n",
    "        \n",
    "    def run(self):\n",
    "        for i in range(self.iters):\n",
    "            self.pull()\n",
    "            self.reward[i] = self.mean_reward\n",
    "            \n",
    "    def reset(self, mu):\n",
    "        self.n = 0\n",
    "        self.k_n = np.zeros(k)\n",
    "        self.mean_reward = 0\n",
    "        self.reward = np.zeros(iters)\n",
    "        self.k_reward = np.zeros(k)\n",
    "        self.mu = mu"
   ]
  },
  {
   "cell_type": "code",
   "execution_count": 7,
   "metadata": {},
   "outputs": [],
   "source": [
    "class UCB:\n",
    "    def __init__(self, k, c, iters, mu):\n",
    "        # Number of arms\n",
    "        self.k = k\n",
    "        # Exploration parameter\n",
    "        self.c = c\n",
    "        # Number of iterations\n",
    "        self.iters = iters\n",
    "        # Step count\n",
    "        self.n = 1\n",
    "        # Step count for each arm\n",
    "        self.k_n = np.ones(k)\n",
    "        # Total mean reward\n",
    "        self.mean_reward = 0\n",
    "        self.reward = np.zeros(iters)\n",
    "        # Mean reward for each arm\n",
    "        self.k_reward = np.zeros(k) \n",
    "        self.mu = mu\n",
    "        \n",
    "    def pull(self):\n",
    "        a = np.argmax(self.k_reward + self.c * np.sqrt(2 * (np.log(self.n)) / self.k_n))         \n",
    "        reward = np.random.normal(self.mu[a], 1)\n",
    "        \n",
    "        # Update counts\n",
    "        self.n += 1\n",
    "        self.k_n[a] += 1\n",
    "        \n",
    "        # Update total\n",
    "        self.mean_reward = self.mean_reward + (\n",
    "            reward - self.mean_reward) / self.n\n",
    "        \n",
    "        # Update results for a_k\n",
    "        self.k_reward[a] = self.k_reward[a] + (\n",
    "            reward - self.k_reward[a]) / self.k_n[a]\n",
    "        \n",
    "    def run(self):\n",
    "        for i in range(self.iters):\n",
    "            self.pull()\n",
    "            self.reward[i] = self.mean_reward\n",
    "            \n",
    "    def reset(self, mu):\n",
    "        # Resets results while keeping settings\n",
    "        self.n = 1\n",
    "        self.k_n = np.ones(self.k)\n",
    "        self.mean_reward = 0\n",
    "        self.reward = np.zeros(iters)\n",
    "        self.k_reward = np.zeros(self.k)\n",
    "        self.mu = mu"
   ]
  },
  {
   "cell_type": "code",
   "execution_count": 9,
   "metadata": {},
   "outputs": [
    {
     "data": {
      "image/png": "[encoded data removed]",
      "text/plain": [
       "<Figure size 864x576 with 1 Axes>"
      ]
     },
     "metadata": {
      "needs_background": "light"
     },
     "output_type": "display_data"
    }
   ],
   "source": [
    "k = 2\n",
    "iters = 1000\n",
    "\n",
    "eps_0_large_rewards = np.zeros(iters)\n",
    "eps_01_large_rewards = np.zeros(iters)\n",
    "eps_1_large_rewards = np.zeros(iters)\n",
    "\n",
    "eps_0_small_rewards = np.zeros(iters)\n",
    "eps_01_small_rewards = np.zeros(iters)\n",
    "eps_1_small_rewards = np.zeros(iters)\n",
    "\n",
    "ucb_large_rewards = np.zeros(iters)\n",
    "ucb_small_rewards = np.zeros(iters)\n",
    "\n",
    "episodes = 1000\n",
    "mu_small_gap = np.array([0.4,0.5])\n",
    "mu_large_gap = np.array([0.1,0.9])\n",
    "\n",
    "for i in range(episodes): \n",
    "    eps_0_large = Eps_Greedy(k, 0, iters, mu_large_gap)\n",
    "    eps_01_large = Eps_Greedy(k, 0.01, iters, mu_large_gap)\n",
    "    eps_1_large = Eps_Greedy(k, 0.1, iters, mu_large_gap)\n",
    "    \n",
    "    eps_0_small = Eps_Greedy(k, 0, iters, mu_small_gap)\n",
    "    eps_01_small = Eps_Greedy(k, 0.01, iters, mu_small_gap)\n",
    "    eps_1_small = Eps_Greedy(k, 0.1, iters, mu_small_gap)\n",
    "    \n",
    "    ucb_large = UCB(k, 1, iters, mu_large_gap)\n",
    "    ucb_small = UCB(k, 1, iters, mu_small_gap)\n",
    "    # Run experiments\n",
    "    eps_0_large.run()\n",
    "    eps_01_large.run()\n",
    "    eps_1_large.run()   \n",
    "    \n",
    "    eps_0_small.run()\n",
    "    eps_01_small.run()\n",
    "    eps_1_small.run() \n",
    "    \n",
    "    ucb_large.run()\n",
    "    ucb_small.run()\n",
    "    \n",
    "    \n",
    "    # Update long-term averages\n",
    "    eps_0_large_rewards += eps_0_large.reward\n",
    "    eps_01_large_rewards += eps_01_large.reward \n",
    "    eps_1_large_rewards += eps_1_large.reward\n",
    "    \n",
    "    eps_0_small_rewards = eps_0_small.reward\n",
    "    eps_01_small_rewards = eps_01_small.reward\n",
    "    eps_1_small_rewards = eps_1_small.reward\n",
    "    \n",
    "    ucb_large_rewards += ucb_large.reward\n",
    "    ucb_small_rewards += ucb_small.reward\n",
    "    \n",
    "        \n",
    "plt.figure(figsize=(12,8))\n",
    "plt.plot(eps_0_large_rewards, label=\"$\\epsilon=0$, $\\Delta=0.8$\")\n",
    "plt.plot(eps_01_large_rewards, label=\"$\\epsilon=0.01$, $\\Delta=0.8$\")\n",
    "plt.plot(eps_1_large_rewards, label=\"$\\epsilon=0.1$, $\\Delta=0.8$\")\n",
    "plt.plot(eps_0_small_rewards, label=\"$\\epsilon=0$, $\\Delta=0.1$\")\n",
    "plt.plot(eps_01_small_rewards, label=\"$\\epsilon=0.01$, $\\Delta=0.1$\")\n",
    "plt.plot(eps_1_small_rewards, label=\"$\\epsilon=0.1$, $\\Delta=0.1$\")\n",
    "plt.plot(ucb_large_rewards, label=\"UCB, $\\Delta=0.8$\")\n",
    "plt.plot(ucb_small_rewards, label=\"UCB, $\\Delta=0.1$\")\n",
    "plt.legend(bbox_to_anchor=(1.3, 0.5))\n",
    "plt.xlabel(\"Iterations\")\n",
    "plt.ylabel(\"Accumulative Reward\")\n",
    "plt.title(\"Accumulative $\\epsilon-greedy$ and UCB rewards with different $\\Delta$ and $\\epsilon$\")\n",
    "plt.show()"
   ]
  },
  {
   "cell_type": "code",
   "execution_count": null,
   "metadata": {},
   "outputs": [],
   "source": []
  },
  {
   "cell_type": "code",
   "execution_count": null,
   "metadata": {},
   "outputs": [],
   "source": []
  }
 ],
 "metadata": {
  "kernelspec": {
   "display_name": "Python 3",
   "language": "python",
   "name": "python3"
  },
  "language_info": {
   "codemirror_mode": {
    "name": "ipython",
    "version": 3
   },
   "file_extension": ".py",
   "mimetype": "text/x-python",
   "name": "python",
   "nbconvert_exporter": "python",
   "pygments_lexer": "ipython3",
   "version": "3.7.4"
  }
 },
 "nbformat": 4,
 "nbformat_minor": 4
}
